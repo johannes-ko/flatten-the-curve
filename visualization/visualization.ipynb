{
 "cells": [
  {
   "cell_type": "code",
   "execution_count": null,
   "metadata": {},
   "outputs": [],
   "source": [
    "import matplotlib.pyplot as plt\n",
    "import matplotlib.style\n",
    "import csv\n",
    "import numpy as np\n",
    "import datetime\n",
    "from conf import *\n",
    "import pickle\n",
    "import matplotlib.dates as mdates\n",
    "matplotlib.style.use('ggplot')"
   ]
  },
  {
   "cell_type": "code",
   "execution_count": null,
   "metadata": {},
   "outputs": [],
   "source": [
    "times, values = pickle.load(open(\"tmp/plot_data.p\", \"rb\"))"
   ]
  },
  {
   "cell_type": "code",
   "execution_count": null,
   "metadata": {
    "scrolled": false
   },
   "outputs": [],
   "source": [
    "fig, ax = plt.subplots(1, figsize=(7, 7))\n",
    "fitstart = 0\n",
    "end = 540\n",
    "\n",
    "ax.grid(True)\n",
    "ax.set_xlim(0, end)\n",
    "ax.set_ylim(0, max(values[:end, 1]))\n",
    "ax.fill_between(times[:end], 0, values[:end, 1] + values[:end, 0], color=np.array(agent_colors[0]) / 255)\n",
    "\n",
    "endemic = 10 * np.sin(0.03*np.array(times)) + 50\n",
    "endemic_line = ax.plot(times[:end], np.ones(len(times[:end]))*50, color=(0.2, 0.2,0.2))\n",
    "\n",
    "pandemic = ax.fill_between(times[:end], 0, values[:end, 1], color=np.array(agent_colors[1]) / 255)\n",
    "\n",
    "ax.legend([endemic_line[0], pandemic], [\"Endemie\", \"Pandemie\"], loc=2)\n",
    "\n",
    "\n",
    "fit = np.polyfit(times[fitstart:end], np.log(values[fitstart:end, 1]), 1, w=np.log(values[fitstart:end, 1]))\n",
    "exp = fit[1] + np.exp(fit[0]*np.array(times[:end]))\n",
    "\n",
    "#ax.axvline(x=200)\n",
    "\n",
    "#ax.scatter([200, 200], [7, 50], marker=\"o\",zorder=10)\n",
    "\n",
    "#ax.plot(times[:end], exp, color=(0.2, 0.2, 0.2))\n",
    "\n",
    "fig.tight_layout()\n",
    "fig.savefig(\"nachtrag/endemic0.png\", dpi=300)"
   ]
  },
  {
   "cell_type": "code",
   "execution_count": null,
   "metadata": {},
   "outputs": [],
   "source": [
    "with open('germany.csv', newline='') as f:\n",
    "    reader = csv.reader(f)\n",
    "    germany = np.array(list(reader)[0], dtype=np.int)\n",
    "    \n",
    "with open('italy.csv', newline='') as f:\n",
    "    reader = csv.reader(f)\n",
    "    italy = np.array(list(reader)[0], dtype=np.int)"
   ]
  },
  {
   "cell_type": "code",
   "execution_count": null,
   "metadata": {},
   "outputs": [],
   "source": [
    "start_date = datetime.date(year=2020, month=1, day=22)"
   ]
  },
  {
   "cell_type": "code",
   "execution_count": null,
   "metadata": {},
   "outputs": [],
   "source": [
    "dates = []\n",
    "for i in range(len(germany)):\n",
    "    dates.append(start_date + datetime.timedelta(days=i))"
   ]
  },
  {
   "cell_type": "code",
   "execution_count": null,
   "metadata": {},
   "outputs": [],
   "source": [
    "fig, ax = plt.subplots(1, figsize=(7, 7))\n",
    "\n",
    "start = 39\n",
    "\n",
    "ax.grid(True)\n",
    "ax.set_xlim(dates[start], dates[-1])\n",
    "ax.set_ylim(0, max(germany)-1000)\n",
    "ax.fill_between(dates, 0, max(germany), color=np.array(agent_colors[0]) / 255)\n",
    "krank = ax.fill_between(dates, 0, germany, color=np.array(agent_colors[1]) / 255)\n",
    "\n",
    "ax.xaxis.set_major_formatter(mdates.DateFormatter('%d.%m'))\n",
    "\n",
    "fig.autofmt_xdate()\n",
    "\n",
    "date_idxs = np.linspace(0, len(dates)-start-1, len(dates)-start)\n",
    "fit = np.polyfit(date_idxs, np.log(germany[start:]), 1)\n",
    "exp = np.exp(fit[0]*np.array(date_idxs))*germany[start]\n",
    "ax.plot(dates[start:], exp, color=(0.2, 0.2, 0.2))\n",
    "\n",
    "ax.legend([krank], [\"Bestätigte Fälle von SARS-CoV-2 in Deutschland\"], loc=2)\n",
    "\n",
    "fig.tight_layout()\n",
    "fig.savefig(\"nachtrag/deutschland_fit.png\", dpi=300)"
   ]
  },
  {
   "cell_type": "code",
   "execution_count": null,
   "metadata": {
    "scrolled": false
   },
   "outputs": [],
   "source": [
    "for italy_offset in range(0, 8):\n",
    "\n",
    "    fig, ax = plt.subplots(1, figsize=(7, 7))\n",
    "\n",
    "    start = 39\n",
    "\n",
    "    ax.grid(True)\n",
    "    ax.set_xlim(dates[start], dates[-1])\n",
    "    ax.set_ylim(0, max(italy)-1000)\n",
    "\n",
    "    ax.xaxis.set_major_formatter(mdates.DateFormatter('%d.%m'))\n",
    "\n",
    "    fig.autofmt_xdate()\n",
    "\n",
    "    #ax.fill_between(dates, 0, italy, color=np.array(agent_colors[1]) / 255)\n",
    "\n",
    "    date_idxs = np.linspace(0, len(dates)-start-1, len(dates)-start)\n",
    "    fit_germany = np.polyfit(date_idxs, np.log(germany[start:]), 1)\n",
    "    exp_germany = np.exp(fit_germany[0]*np.array(date_idxs))*germany[start]\n",
    "    line_germany = ax.plot(dates[start:], exp_germany, color=(0.2, 0.2, 0.2))\n",
    "\n",
    "    fit_italy = np.polyfit(date_idxs, np.log(italy[start:]), 1)\n",
    "\n",
    "    all_date_idxs = np.linspace(0, len(dates)-1, len(dates))\n",
    "    exp_italy = np.exp(fit_italy[0]*np.array(all_date_idxs))*1.8\n",
    "\n",
    "    italy_string = \"Italien\"\n",
    "    if italy_offset>0:\n",
    "        italy_string += \" (um {} Tage verschoben)\".format(italy_offset)\n",
    "        line_italy = ax.plot(dates[italy_offset:], exp_italy[:-italy_offset], color=(0.1, 0.1, 1))\n",
    "    else:\n",
    "        line_italy = ax.plot(dates, exp_italy, color=(0.1, 0.1, 1))\n",
    "\n",
    "\n",
    "    fig.legend((\"Deutschland\", italy_string), loc=2, bbox_to_anchor=(0.1, 0.46, 0.5, 0.5), facecolor=\"w\")\n",
    "    fig.tight_layout()\n",
    "    \n",
    "    fig.savefig(\"tmp/germany_italy_offset{}.png\".format(italy_offset), dpi=300)"
   ]
  },
  {
   "cell_type": "code",
   "execution_count": null,
   "metadata": {},
   "outputs": [],
   "source": [
    "print(\"Anstieg pro Tag: \\n \\t Deutschland: {:1.2f}% \\n \\t Italien: {:1.2f}%\".format((np.exp(fit_germany[0])-1)*100, (np.exp(fit_italy[0])-1)*100))"
   ]
  },
  {
   "cell_type": "code",
   "execution_count": null,
   "metadata": {},
   "outputs": [],
   "source": [
    "np.log(100)/fit_germany[0]"
   ]
  },
  {
   "cell_type": "code",
   "execution_count": null,
   "metadata": {},
   "outputs": [],
   "source": [
    "np.exp(fit_germany[0]*7)"
   ]
  },
  {
   "cell_type": "code",
   "execution_count": null,
   "metadata": {},
   "outputs": [],
   "source": []
  }
 ],
 "metadata": {
  "kernelspec": {
   "display_name": "Python 3",
   "language": "python",
   "name": "python3"
  },
  "language_info": {
   "codemirror_mode": {
    "name": "ipython",
    "version": 3
   },
   "file_extension": ".py",
   "mimetype": "text/x-python",
   "name": "python",
   "nbconvert_exporter": "python",
   "pygments_lexer": "ipython3",
   "version": "3.6.9"
  }
 },
 "nbformat": 4,
 "nbformat_minor": 2
}
