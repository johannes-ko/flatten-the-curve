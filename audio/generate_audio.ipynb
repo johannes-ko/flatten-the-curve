{
 "cells": [
  {
   "cell_type": "code",
   "execution_count": null,
   "metadata": {},
   "outputs": [],
   "source": [
    "import matplotlib.pyplot as plt\n",
    "import matplotlib.style\n",
    "import numpy as np\n",
    "from conf import *\n",
    "import pickle\n",
    "import matplotlib.dates as mdates\n",
    "from scipy.io import wavfile\n",
    "matplotlib.style.use('ggplot')"
   ]
  },
  {
   "cell_type": "code",
   "execution_count": null,
   "metadata": {},
   "outputs": [],
   "source": [
    "end = 540\n",
    "\n",
    "new_infections = pickle.load(open(\"7/new_infections_list.p\", \"rb\"))\n",
    "new_infections = new_infections[:end]"
   ]
  },
  {
   "cell_type": "code",
   "execution_count": null,
   "metadata": {},
   "outputs": [],
   "source": [
    "plt.plot(new_infections)"
   ]
  },
  {
   "cell_type": "code",
   "execution_count": null,
   "metadata": {},
   "outputs": [],
   "source": [
    "sampleRate = 44100.0 # hertz\n",
    "fps = 30\n",
    "duration = len(new_infections) # frames\n",
    "\n",
    "klick_sr, klick = wavfile.read(\"klick.wav\")\n",
    "\n",
    "values = np.zeros(int(duration/fps*sampleRate)+len(klick), dtype=np.int16)\n",
    "\n",
    "for i, ni in enumerate(new_infections):\n",
    "    if ni>0:\n",
    "        set_start = int(i/fps*sampleRate)\n",
    "        np.put(values, range(set_start,set_start+len(klick)), klick/4*min(ni, 4))\n",
    "        \n",
    "#wavfile.write(\"7/audio.wav\", int(sampleRate), values)\n"
   ]
  },
  {
   "cell_type": "code",
   "execution_count": null,
   "metadata": {},
   "outputs": [],
   "source": [
    "values = np.flip(values)"
   ]
  },
  {
   "cell_type": "code",
   "execution_count": null,
   "metadata": {},
   "outputs": [],
   "source": [
    "values = values[::2]"
   ]
  },
  {
   "cell_type": "code",
   "execution_count": null,
   "metadata": {},
   "outputs": [],
   "source": [
    "wavfile.write(\"7/audio_reverse_fast.wav\", int(sampleRate), values)\n"
   ]
  },
  {
   "cell_type": "code",
   "execution_count": null,
   "metadata": {},
   "outputs": [],
   "source": [
    "sampleRate = 44100.0 # hertz\n",
    "fps = 30\n",
    "duration = len(new_infections) # frames\n",
    "\n",
    "klick_sr, klick = wavfile.read(\"klick.wav\")\n",
    "\n",
    "values = np.zeros(int(duration/fps*sampleRate)*2+len(klick), dtype=np.int16)\n",
    "\n",
    "for i, ni in enumerate(new_infections):\n",
    "    if ni>0:\n",
    "        set_start = int(i*2/fps*sampleRate)\n",
    "        np.put(values, range(set_start,set_start+len(klick)), klick)\n",
    "    if ni>1:\n",
    "        set_start = int(((i*2)+1)/fps*sampleRate)\n",
    "        np.put(values, range(set_start,set_start+len(klick)), klick)\n",
    "        \n",
    "wavfile.write(\"7/audio_slow.wav\", int(sampleRate), values)"
   ]
  },
  {
   "cell_type": "code",
   "execution_count": null,
   "metadata": {},
   "outputs": [],
   "source": []
  },
  {
   "cell_type": "code",
   "execution_count": null,
   "metadata": {},
   "outputs": [],
   "source": [
    "plt.plot(values)"
   ]
  },
  {
   "cell_type": "code",
   "execution_count": null,
   "metadata": {},
   "outputs": [],
   "source": [
    "plt.plot(klick)"
   ]
  },
  {
   "cell_type": "code",
   "execution_count": null,
   "metadata": {},
   "outputs": [],
   "source": [
    "new_infections"
   ]
  },
  {
   "cell_type": "code",
   "execution_count": null,
   "metadata": {},
   "outputs": [],
   "source": []
  }
 ],
 "metadata": {
  "kernelspec": {
   "display_name": "Python 3",
   "language": "python",
   "name": "python3"
  },
  "language_info": {
   "codemirror_mode": {
    "name": "ipython",
    "version": 3
   },
   "file_extension": ".py",
   "mimetype": "text/x-python",
   "name": "python",
   "nbconvert_exporter": "python",
   "pygments_lexer": "ipython3",
   "version": "3.6.9"
  }
 },
 "nbformat": 4,
 "nbformat_minor": 2
}
